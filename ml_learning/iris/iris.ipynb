{
 "cells": [
  {
   "cell_type": "code",
   "execution_count": 3,
   "id": "cc43ae6d-9eae-44f4-b6d9-1363c1e7dddb",
   "metadata": {
    "tags": []
   },
   "outputs": [
    {
     "name": "stdout",
     "output_type": "stream",
     "text": [
      "Requirement already satisfied: pandas==2.0.3 in /Users/wangjialong/anaconda3/lib/python3.11/site-packages (from -r requirements.txt (line 1)) (2.0.3)\n",
      "Requirement already satisfied: scikit-learn==1.3.0 in /Users/wangjialong/anaconda3/lib/python3.11/site-packages (from -r requirements.txt (line 2)) (1.3.0)\n",
      "Requirement already satisfied: python-dateutil>=2.8.2 in /Users/wangjialong/anaconda3/lib/python3.11/site-packages (from pandas==2.0.3->-r requirements.txt (line 1)) (2.8.2)\n",
      "Requirement already satisfied: pytz>=2020.1 in /Users/wangjialong/anaconda3/lib/python3.11/site-packages (from pandas==2.0.3->-r requirements.txt (line 1)) (2023.3.post1)\n",
      "Requirement already satisfied: tzdata>=2022.1 in /Users/wangjialong/anaconda3/lib/python3.11/site-packages (from pandas==2.0.3->-r requirements.txt (line 1)) (2023.3)\n",
      "Requirement already satisfied: numpy>=1.21.0 in /Users/wangjialong/anaconda3/lib/python3.11/site-packages (from pandas==2.0.3->-r requirements.txt (line 1)) (1.24.3)\n",
      "Requirement already satisfied: scipy>=1.5.0 in /Users/wangjialong/anaconda3/lib/python3.11/site-packages (from scikit-learn==1.3.0->-r requirements.txt (line 2)) (1.11.1)\n",
      "Requirement already satisfied: joblib>=1.1.1 in /Users/wangjialong/anaconda3/lib/python3.11/site-packages (from scikit-learn==1.3.0->-r requirements.txt (line 2)) (1.2.0)\n",
      "Requirement already satisfied: threadpoolctl>=2.0.0 in /Users/wangjialong/anaconda3/lib/python3.11/site-packages (from scikit-learn==1.3.0->-r requirements.txt (line 2)) (2.2.0)\n",
      "Requirement already satisfied: six>=1.5 in /Users/wangjialong/anaconda3/lib/python3.11/site-packages (from python-dateutil>=2.8.2->pandas==2.0.3->-r requirements.txt (line 1)) (1.16.0)\n"
     ]
    }
   ],
   "source": [
    "!pip install -r requirements.txt"
   ]
  },
  {
   "cell_type": "code",
   "execution_count": 19,
   "id": "5de1cf57-fec3-4c4c-8ff5-9252045d8b15",
   "metadata": {
    "tags": []
   },
   "outputs": [
    {
     "name": "stdout",
     "output_type": "stream",
     "text": [
      "维度：  (150, 4)\n",
      "(150,)\n",
      "int64\n"
     ]
    }
   ],
   "source": [
    "from sklearn import datasets\n",
    "from sklearn.model_selection import train_test_split\n",
    "from sklearn.preprocessing import StandardScaler\n",
    "from sklearn.svm import SVC\n",
    "\n",
    "iris = datasets.load_iris()\n",
    "X = iris.data\n",
    "y = iris.target\n",
    "print(\"维度： \", X.shape)\n",
    "print(y.shape)\n",
    "print(y.dtype)\n"
   ]
  },
  {
   "cell_type": "code",
   "execution_count": 21,
   "id": "1b2f9ef1-3f95-4091-977c-805da3e3d5f9",
   "metadata": {
    "tags": []
   },
   "outputs": [
    {
     "name": "stdout",
     "output_type": "stream",
     "text": [
      "[1 0 2 1 1 0 1 2 1 1 2 0 0 0 0 1 2 1 1 2 0 2 0 2 2 2 2 2 0 0 0 0 1 0 0 2 1\n",
      " 0 0 0 2 1 1 0 0]\n"
     ]
    }
   ],
   "source": [
    "# 将数据集分为训练集和测试集  \n",
    "X_train, X_test, y_train, y_test = train_test_split(X, y, test_size=0.3, random_state=42)  \n",
    "  \n",
    "# 创建SVM分类器实例  \n",
    "# 可以调整参数，比如C（正则化参数），kernel（核函数）等  \n",
    "svm_classifier = SVC(kernel='linear', C=1, random_state=42)  \n",
    "  \n",
    "# 使用训练数据拟合模型  \n",
    "svm_classifier.fit(X_train, y_train)  \n",
    "  \n",
    "# 对测试集进行预测  \n",
    "y_pred = svm_classifier.predict(X_test)  \n",
    "\n",
    "print(y_pred)\n"
   ]
  },
  {
   "cell_type": "code",
   "execution_count": null,
   "id": "4af6932a-4f37-4db1-bd0f-5196181ff37e",
   "metadata": {},
   "outputs": [],
   "source": []
  }
 ],
 "metadata": {
  "kernelspec": {
   "display_name": "Python 3 (ipykernel)",
   "language": "python",
   "name": "python3"
  },
  "language_info": {
   "codemirror_mode": {
    "name": "ipython",
    "version": 3
   },
   "file_extension": ".py",
   "mimetype": "text/x-python",
   "name": "python",
   "nbconvert_exporter": "python",
   "pygments_lexer": "ipython3",
   "version": "3.11.5"
  }
 },
 "nbformat": 4,
 "nbformat_minor": 5
}
