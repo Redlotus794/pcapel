{
 "cells": [
  {
   "cell_type": "code",
   "execution_count": 6,
   "id": "6719c5f8-c4b4-4d2a-9239-ffd793da1906",
   "metadata": {},
   "outputs": [],
   "source": [
    "# from transformers import AutoTokenizer, AutoModelForMaskedLM\n",
    "from transformers import BertTokenizer, BertModel\n",
    "import torch\n",
    "from torch.nn.functional import cosine_similarity"
   ]
  },
  {
   "cell_type": "code",
   "execution_count": 7,
   "id": "07d33a02-81a1-477f-a4b6-3419ab52174a",
   "metadata": {},
   "outputs": [
    {
     "name": "stdout",
     "output_type": "stream",
     "text": [
      "余弦相似度: 0.8983873724937439\n"
     ]
    }
   ],
   "source": [
    "# 中文单词的embedding\n",
    "\n",
    "# 初始化分词器和模型\n",
    "tokenizer = BertTokenizer.from_pretrained('bert-base-chinese')\n",
    "model = BertModel.from_pretrained('bert-base-chinese')\n",
    "\n",
    "# 准备两个单词\n",
    "word1 = \"bugfix-glbdcsve1591-unallocatedOrderEtaCalculation-20231024.sql\"\n",
    "word2 = \"bugfix-20600-GdsShippingAllocationError-20230731\"\n",
    "\n",
    "# 对单词进行编码并添加必要的特殊符号[CLS]和[SEP]\n",
    "input_ids1 = tokenizer.encode(word1, add_special_tokens=True)\n",
    "input_ids2 = tokenizer.encode(word2, add_special_tokens=True)\n",
    "\n",
    "# 转换为PyTorch tensors\n",
    "input_ids1 = torch.tensor([input_ids1])\n",
    "input_ids2 = torch.tensor([input_ids2])\n",
    "\n",
    "# 获取每个单词的嵌入表示\n",
    "with torch.no_grad():\n",
    "    outputs1 = model(input_ids1)\n",
    "    outputs2 = model(input_ids2)\n",
    "\n",
    "# 取[CLS]标记的输出作为整个句子/单词的嵌入表示\n",
    "word_embedding1 = outputs1.last_hidden_state[:, 0, :]\n",
    "word_embedding2 = outputs2.last_hidden_state[:, 0, :]\n",
    "\n",
    "# print(word_embedding1)\n",
    "# print(word_embedding2)\n",
    "\n",
    "# 计算两个嵌入之间的余弦相似度\n",
    "similarity = cosine_similarity(word_embedding1, word_embedding2)\n",
    "\n",
    "print(f\"余弦相似度: {similarity.item()}\")"
   ]
  },
  {
   "cell_type": "code",
   "execution_count": 8,
   "id": "7ad7a910-72d7-491c-8e93-55451e96bb6e",
   "metadata": {},
   "outputs": [
    {
     "name": "stdout",
     "output_type": "stream",
     "text": [
      "句子1与句子2的余弦相似度为: 0.8981784554420176\n"
     ]
    }
   ],
   "source": [
    "# Sentence Embedding\n",
    "from transformers import BertTokenizer, BertModel\n",
    "import torch\n",
    "from scipy.spatial.distance import cosine\n",
    "\n",
    "# 加载分词器和模型\n",
    "tokenizer = BertTokenizer.from_pretrained('bert-base-chinese')\n",
    "model = BertModel.from_pretrained('bert-base-chinese')\n",
    "\n",
    "# 定义两个句子\n",
    "sentence1 = \"bugfix-20600-GdsShippingAllocationError-20230731\"\n",
    "sentence2 = \"bugfix-glbdcsve1591-unallocatedOrderEtaCalculation-20231024.sql\"\n",
    "\n",
    "# 分词\n",
    "inputs1 = tokenizer(sentence1, return_tensors=\"pt\", padding=True, truncation=True, max_length=128)\n",
    "inputs2 = tokenizer(sentence2, return_tensors=\"pt\", padding=True, truncation=True, max_length=128)\n",
    "\n",
    "# 获取句子嵌入\n",
    "with torch.no_grad():\n",
    "    outputs1 = model(**inputs1)\n",
    "    outputs2 = model(**inputs2)\n",
    "\n",
    "# 使用最后一层的隐藏状态的平均值作为句子的嵌入\n",
    "sentence_embedding1 = outputs1.last_hidden_state.mean(dim=1)\n",
    "sentence_embedding2 = outputs2.last_hidden_state.mean(dim=1)\n",
    "\n",
    "# 计算两个句子嵌入的余弦相似度\n",
    "cosine_similarity = 1 - cosine(sentence_embedding1[0].numpy(), sentence_embedding2[0].numpy())\n",
    "\n",
    "print(f\"句子1与句子2的余弦相似度为: {cosine_similarity}\")"
   ]
  }
 ],
 "metadata": {
  "kernelspec": {
   "display_name": "Python 3 (ipykernel)",
   "language": "python",
   "name": "python3"
  },
  "language_info": {
   "codemirror_mode": {
    "name": "ipython",
    "version": 3
   },
   "file_extension": ".py",
   "mimetype": "text/x-python",
   "name": "python",
   "nbconvert_exporter": "python",
   "pygments_lexer": "ipython3",
   "version": "3.9.18"
  }
 },
 "nbformat": 4,
 "nbformat_minor": 5
}
