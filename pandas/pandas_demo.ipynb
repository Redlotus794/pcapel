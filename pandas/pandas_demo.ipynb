{
 "cells": [
  {
   "cell_type": "markdown",
   "id": "8300fdc8-527c-4575-a27f-a8a622777034",
   "metadata": {},
   "source": [
    "# 这是一个Pandas的演示项目\n"
   ]
  },
  {
   "cell_type": "code",
   "execution_count": null,
   "id": "85ad7bc4-1c22-4d23-8fc9-b18e72fda03b",
   "metadata": {},
   "outputs": [],
   "source": [
    "!pip install -r requirements.txt"
   ]
  },
  {
   "cell_type": "code",
   "execution_count": null,
   "id": "873b11fb-ba7f-4a6e-a690-2628dc2e7fa0",
   "metadata": {},
   "outputs": [],
   "source": [
    "import pandas as pd\n",
    "\n",
    "# store passenger data of the Titanic\n",
    "df = pd.DataFrame(\n",
    "    {\n",
    "        \"Name\": [\n",
    "            \"Braund, Mr. Owen Harris\",\n",
    "            \"Allen, Mr. William Henry\",\n",
    "            \"Bonnell, Miss. Elizabeth\",\n",
    "        ],\n",
    "        \"Age\": [22, 35, 58],\n",
    "        \"Sex\": [\"male\", \"male\", \"female\"],\n",
    "    }\n",
    ")\n",
    "\n",
    "print(df)"
   ]
  },
  {
   "cell_type": "code",
   "execution_count": null,
   "id": "96c3d929-a4bf-4295-8fcf-29af47c7a20b",
   "metadata": {},
   "outputs": [],
   "source": [
    "ages = pd.Series([22, 35, 58], name = \"Age\")\n",
    "print(ages)"
   ]
  },
  {
   "cell_type": "code",
   "execution_count": null,
   "id": "26df0ed4-a772-4f08-8b09-6ab0ddb8d687",
   "metadata": {},
   "outputs": [],
   "source": [
    "print(df[\"Age\"].max())\n",
    "print(ages.max())"
   ]
  },
  {
   "cell_type": "code",
   "execution_count": null,
   "id": "704e3a7e-7d3d-4155-8a2b-03fba0ded87e",
   "metadata": {},
   "outputs": [],
   "source": [
    "titanic = pd.read_csv(\"data/titanic_utf8.csv\")\n",
    "print(titanic.head())\n",
    "print(titanic.tail(10))"
   ]
  },
  {
   "cell_type": "code",
   "execution_count": 22,
   "id": "0c307acf-c873-4bbc-8514-d6ce578a60a8",
   "metadata": {},
   "outputs": [
    {
     "name": "stdout",
     "output_type": "stream",
     "text": [
      "PassengerId      int64\n",
      "Survived         int64\n",
      "Pclass           int64\n",
      "Name            object\n",
      "Sex             object\n",
      "Age            float64\n",
      "SibSp            int64\n",
      "Parch            int64\n",
      "Ticket          object\n",
      "Fare           float64\n",
      "Cabin           object\n",
      "Embarked        object\n",
      "dtype: object\n"
     ]
    }
   ],
   "source": [
    "print(titanic.dtypes)"
   ]
  },
  {
   "cell_type": "code",
   "execution_count": 25,
   "id": "8b12a693-28e8-4c11-b574-b9022b2c1be7",
   "metadata": {},
   "outputs": [],
   "source": [
    "titanic.to_excel(\"titanic_text.xlsx\", sheet_name = 'passengers', index=False)"
   ]
  },
  {
   "cell_type": "code",
   "execution_count": null,
   "id": "96bce7be-6742-4c96-8c23-de9d2bcd9c86",
   "metadata": {},
   "outputs": [],
   "source": []
  },
  {
   "cell_type": "code",
   "execution_count": null,
   "id": "a966d254-212c-4fc9-930e-4ba1fb67b68f",
   "metadata": {},
   "outputs": [],
   "source": []
  }
 ],
 "metadata": {
  "kernelspec": {
   "display_name": "Python 3 (ipykernel)",
   "language": "python",
   "name": "python3"
  },
  "language_info": {
   "codemirror_mode": {
    "name": "ipython",
    "version": 3
   },
   "file_extension": ".py",
   "mimetype": "text/x-python",
   "name": "python",
   "nbconvert_exporter": "python",
   "pygments_lexer": "ipython3",
   "version": "3.9.18"
  }
 },
 "nbformat": 4,
 "nbformat_minor": 5
}
